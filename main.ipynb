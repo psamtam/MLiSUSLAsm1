{
 "cells": [
  {
   "cell_type": "markdown",
   "metadata": {},
   "source": [
    "### This script aims to use python to do the task manually, like using pen and paper. It just uses python to calculate the things"
   ]
  },
  {
   "cell_type": "code",
   "execution_count": 13,
   "metadata": {},
   "outputs": [],
   "source": [
    "import numpy as np\n",
    "\n",
    "X = np.array([[64, 180], \n",
    "              [57, 150], \n",
    "              [64, 140], \n",
    "              [43, 110], \n",
    "              [55, 130], \n",
    "              [37, 120], \n",
    "              [41, 130],\n",
    "              [56, 120], \n",
    "              [46, 105], \n",
    "              [46, 138]])"
   ]
  },
  {
   "cell_type": "code",
   "execution_count": 14,
   "metadata": {},
   "outputs": [
    {
     "name": "stdout",
     "output_type": "stream",
     "text": [
      "meanX: [ 50.9 132.3]\n"
     ]
    }
   ],
   "source": [
    "meanX = X.mean(axis=0)\n",
    "\n",
    "print(f\"meanX: {meanX}\")"
   ]
  },
  {
   "cell_type": "code",
   "execution_count": 16,
   "metadata": {},
   "outputs": [
    {
     "name": "stdout",
     "output_type": "stream",
     "text": [
      "[[ 91.65555556 137.47777778]\n",
      " [137.47777778 470.67777778]]\n"
     ]
    }
   ],
   "source": [
    "N = len(X)\n",
    "\n",
    "X1T = (X[1-1] - meanX).reshape(-1, 1)\n",
    "\n",
    "temp = np.dot(X1T, [(X[1-1] - meanX)])\n",
    "\n",
    "X_minus_mean = (X - meanX)\n",
    "\n",
    "X_minus_mean_T_dot_X_minus_mean = []\n",
    "\n",
    "for x in X_minus_mean:\n",
    "  X_minus_mean_T_dot_X_minus_mean.append(np.dot(x.reshape(-1, 1), [x]))\n",
    "\n",
    "X_minus_mean_T_dot_X_minus_mean = np.array(X_minus_mean_T_dot_X_minus_mean)\n",
    "\n",
    "sum_of_X_minus_mean_T_dot_X_minus_mean = sum(X_minus_mean_T_dot_X_minus_mean)\n",
    "\n",
    "cov_mat = 1/(N-1) * sum_of_X_minus_mean_T_dot_X_minus_mean\n",
    "\n",
    "print(cov_mat)"
   ]
  },
  {
   "cell_type": "code",
   "execution_count": 18,
   "metadata": {},
   "outputs": [
    {
     "name": "stdout",
     "output_type": "stream",
     "text": [
      "[ 47.04148516 515.29184818]\n",
      "The first eigenvector is [-0.95116863  0.30867173], where eigenvalue is 47.04148515625337\n",
      "The second eigenvector is [-0.30867173 -0.95116863], where eigenvalue is 515.2918481770799\n"
     ]
    }
   ],
   "source": [
    "from numpy import linalg as LA\n",
    "\n",
    "eigenvalues, eigenvectors = LA.eig(cov_mat)\n",
    "\n",
    "print(eigenvalues)\n",
    "\n",
    "print(f\"The first eigenvector is {eigenvectors[:, 0]}, where eigenvalue is {eigenvalues[0]}\")\n",
    "print(f\"The second eigenvector is {eigenvectors[:, 1]}, where eigenvalue is {eigenvalues[1]}\")"
   ]
  }
 ],
 "metadata": {
  "kernelspec": {
   "display_name": "phys4038project",
   "language": "python",
   "name": "python3"
  },
  "language_info": {
   "codemirror_mode": {
    "name": "ipython",
    "version": 3
   },
   "file_extension": ".py",
   "mimetype": "text/x-python",
   "name": "python",
   "nbconvert_exporter": "python",
   "pygments_lexer": "ipython3",
   "version": "3.10.15"
  }
 },
 "nbformat": 4,
 "nbformat_minor": 2
}
